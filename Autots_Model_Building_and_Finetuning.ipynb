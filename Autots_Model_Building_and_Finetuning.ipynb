{
  "cells": [
    {
      "cell_type": "code",
      "execution_count": null,
      "metadata": {
        "colab": {
          "background_save": true
        },
        "id": "z_WR_oXTUatd"
      },
      "outputs": [],
      "source": [
        "!pip install yfinance"
      ]
    },
    {
      "cell_type": "code",
      "execution_count": null,
      "metadata": {
        "colab": {
          "background_save": true
        },
        "id": "2ZGq9Y8dVF6Y"
      },
      "outputs": [],
      "source": [
        "!pip install autots"
      ]
    },
    {
      "cell_type": "code",
      "execution_count": null,
      "metadata": {
        "colab": {
          "background_save": true
        },
        "id": "XJ7wM7xYVFHq"
      },
      "outputs": [],
      "source": [
        "from autots import AutoTS\n",
        "import joblib\n",
        "from sklearn.metrics import mean_absolute_error, mean_squared_error\n",
        "import pandas as pd\n",
        "import yfinance as yf"
      ]
    },
    {
      "cell_type": "code",
      "execution_count": null,
      "metadata": {
        "colab": {
          "background_save": true
        },
        "id": "BVLzE2nVUjQG"
      },
      "outputs": [],
      "source": [
        "# Loading the data\n",
        "data = pd.read_csv('/content/df_Prophet_Autots.csv', parse_dates=['Time Serie'], index_col='Time Serie')\n",
        "data.head()"
      ]
    },
    {
      "cell_type": "code",
      "execution_count": null,
      "metadata": {
        "colab": {
          "background_save": true
        },
        "id": "4X2UtYzcFDA1"
      },
      "outputs": [],
      "source": [
        "# 2. Split into train/test (last 60 observations as test set)\n",
        "test_data = data.iloc[-60:]  # Last 60 rows\n",
        "train_data = data.iloc[:-60]  # All rows except last 60"
      ]
    },
    {
      "cell_type": "code",
      "execution_count": null,
      "metadata": {
        "colab": {
          "background_save": true
        },
        "id": "kdUwOht9FE3j"
      },
      "outputs": [],
      "source": [
        "model = AutoTS(\n",
        "    forecast_length=60,\n",
        "    frequency='infer',\n",
        "    ensemble='simple',\n",
        "    max_generations=5,\n",
        "    num_validations=3\n",
        ")\n",
        "model = model.fit(train_data)"
      ]
    },
    {
      "cell_type": "code",
      "execution_count": null,
      "metadata": {
        "colab": {
          "background_save": true
        },
        "id": "7cWl6d6bFLn1"
      },
      "outputs": [],
      "source": [
        "# 4. Generate forecasts\n",
        "prediction = model.predict()\n",
        "forecast = prediction.forecast"
      ]
    },
    {
      "cell_type": "code",
      "execution_count": null,
      "metadata": {
        "colab": {
          "background_save": true
        },
        "id": "pq4AM9j7PXAi"
      },
      "outputs": [],
      "source": [
        "forecast.index = test_data.index"
      ]
    },
    {
      "cell_type": "code",
      "execution_count": null,
      "metadata": {
        "colab": {
          "background_save": true
        },
        "collapsed": true,
        "id": "DOiuf80nFQN4"
      },
      "outputs": [],
      "source": [
        "# 5. Compare forecast with actual test data\n",
        "print(\"Forecasted values:\")\n",
        "forecast.head()\n"
      ]
    },
    {
      "cell_type": "code",
      "execution_count": null,
      "metadata": {
        "colab": {
          "background_save": true
        },
        "collapsed": true,
        "id": "NpsFStSwL4AK"
      },
      "outputs": [],
      "source": [
        "print(\"\\nActual test values:\")\n",
        "test_data.head()"
      ]
    },
    {
      "cell_type": "code",
      "execution_count": null,
      "metadata": {
        "colab": {
          "background_save": true
        },
        "collapsed": true,
        "id": "-v8Bp0fGU_sm"
      },
      "outputs": [],
      "source": [
        "# Initialize model with 60-day forecast\n",
        "model = AutoTS(\n",
        "    forecast_length=60,\n",
        "    frequency='infer',  # Automatically detects time frequency\n",
        "    ensemble='simple',\n",
        "    max_generations=5,  # Increase for better accuracy (slower)\n",
        "    num_validations=3   # Increase for more robust validation\n",
        ")\n",
        "\n",
        "# Fit model directly on DataFrame (date index + currency columns)\n",
        "model = model.fit(data)\n",
        "\n",
        "# Generate forecasts\n",
        "prediction = model.predict()\n",
        "forecast = prediction.forecast"
      ]
    },
    {
      "cell_type": "code",
      "execution_count": null,
      "metadata": {
        "colab": {
          "background_save": true
        },
        "collapsed": true,
        "id": "hLBRdNbBW9Lp"
      },
      "outputs": [],
      "source": [
        "# Compare forecast with actual test data\n",
        "print(\"Forecasted values:\")\n",
        "print(forecast.head())\n",
        "print(\"\\nActual test values:\")\n",
        "print(test_data.head())"
      ]
    },
    {
      "cell_type": "code",
      "execution_count": null,
      "metadata": {
        "colab": {
          "background_save": true
        },
        "id": "gqLmH-rVDzPu"
      },
      "outputs": [],
      "source": [
        "forecast.to_csv('forecast_results.csv', index=True)"
      ]
    },
    {
      "cell_type": "code",
      "execution_count": null,
      "metadata": {
        "colab": {
          "background_save": true
        },
        "id": "KGYOm7f_Lcdw"
      },
      "outputs": [],
      "source": [
        "import matplotlib.pyplot as plt"
      ]
    },
    {
      "cell_type": "code",
      "execution_count": null,
      "metadata": {
        "colab": {
          "background_save": true
        },
        "id": "g8O0tW1m9eOt"
      },
      "outputs": [],
      "source": [
        "for column in forecast.columns:\n",
        "    plt.figure(figsize=(10, 6))\n",
        "    plt.plot(forecast.index, forecast[column], label='Forecast', color='blue')\n",
        "    plt.plot(test_data.index, test_data[column], label='Actual', linestyle='--', color='orange')\n",
        "    plt.title(f'{column} Exchange Rate: Forecast vs Actual')\n",
        "    plt.xlabel('Date')\n",
        "    plt.ylabel('Rate')\n",
        "    plt.legend()\n",
        "    plt.grid(True)\n",
        "    plt.show()\n",
        "\n",
        "#Save forecast to CSV\n",
        "forecast.to_csv('forecast_results.csv', index=True)"
      ]
    },
    {
      "cell_type": "code",
      "execution_count": null,
      "metadata": {
        "colab": {
          "background_save": true
        },
        "id": "3g9VdUIpDhWp"
      },
      "outputs": [],
      "source": [
        "import matplotlib.pyplot as plt\n",
        "\n",
        "# Plot forecasts for each currency on separate plots\n",
        "for column in forecast.columns:\n",
        "\n",
        "    plt.figure(figsize=(10, 6))\n",
        "    # Plot predicted values\n",
        "    plt.plot(forecast.index, forecast[currency], label=f'Forecast: {column}', color='blue')\n",
        "\n",
        "  # Plot actual values\n",
        "    if 'actual_df' in locals() and currency in actual_df.columns:\n",
        "        plt.plot(actual_df.index, actual_df[currency], label=f'Actual {currency}', linestyle='dashed', color='orange')\n",
        "\n",
        "    plt.title(f'Predicted vs Actual Exchange Rates for {currency}')\n",
        "    plt.xlabel('Date')\n",
        "    plt.ylabel('Exchnage Rate')\n",
        "    plt.legend()\n",
        "    plt.grid()\n",
        "    plt.show()\n"
      ]
    },
    {
      "cell_type": "code",
      "execution_count": null,
      "metadata": {
        "colab": {
          "background_save": true
        },
        "id": "c05MJZbiFLqf"
      },
      "outputs": [],
      "source": [
        "# Calculate metrics for each column (currency)\n",
        "for column in forecast.columns:\n",
        "    y_true = test_data[column].values\n",
        "    y_pred = forecast[column].values\n",
        "\n",
        "    # MAE\n",
        "    mae = mean_absolute_error(y_true, y_pred)\n",
        "    # RMSE\n",
        "    rmse = mean_squared_error(y_true, y_pred, squared=False)\n",
        "    # MAPE\n",
        "    mape = (abs((y_true - y_pred) / y_true)).mean() * 100\n",
        "\n",
        "    print(f\"{column}: MAE={mae:.3f}, RMSE={rmse:.3f}, MAPE={mape:.2f}%\")"
      ]
    },
    {
      "cell_type": "code",
      "execution_count": null,
      "metadata": {
        "colab": {
          "background_save": true
        },
        "id": "XpUY0kbjDmLg"
      },
      "outputs": [],
      "source": [
        "joblib.dump(model, 'autots_model.joblib')\n",
        "print(\"Model saved as 'autots_model.joblib'\")"
      ]
    }
  ],
  "metadata": {
    "colab": {
      "provenance": []
    },
    "kernelspec": {
      "display_name": "Python 3",
      "name": "python3"
    },
    "language_info": {
      "name": "python"
    }
  },
  "nbformat": 4,
  "nbformat_minor": 0
}